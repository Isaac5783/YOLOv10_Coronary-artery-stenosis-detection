{
 "cells": [
  {
   "cell_type": "code",
   "execution_count": 1,
   "id": "c7d447a2-a3fa-4caf-8695-da9228a245ca",
   "metadata": {},
   "outputs": [
    {
     "name": "stdout",
     "output_type": "stream",
     "text": [
      "Python 3.10.12\n"
     ]
    }
   ],
   "source": [
    "!python --version"
   ]
  },
  {
   "cell_type": "code",
   "execution_count": 10,
   "id": "bf07ba2c-7729-475c-91bd-227374b1d535",
   "metadata": {},
   "outputs": [],
   "source": [
    "import os"
   ]
  },
  {
   "cell_type": "code",
   "execution_count": 12,
   "id": "332827fa-8c55-46d5-bebb-baf381958190",
   "metadata": {},
   "outputs": [
    {
     "name": "stdout",
     "output_type": "stream",
     "text": [
      "/home/ubuntu/yolov10\n"
     ]
    },
    {
     "name": "stderr",
     "output_type": "stream",
     "text": [
      "/home/ubuntu/envs/yolo_env/lib/python3.10/site-packages/IPython/core/magics/osm.py:417: UserWarning: This is now an optional IPython functionality, setting dhist requires you to install the `pickleshare` library.\n",
      "  self.shell.db['dhist'] = compress_dhist(dhist)[-100:]\n"
     ]
    }
   ],
   "source": [
    "%cd /home/ubuntu/yolov10"
   ]
  },
  {
   "cell_type": "code",
   "execution_count": 2,
   "id": "fafc08c5-251c-4806-a15c-8a5b195e23c3",
   "metadata": {},
   "outputs": [],
   "source": [
    "import yaml"
   ]
  },
  {
   "cell_type": "code",
   "execution_count": 16,
   "id": "0f3aa25c-8207-4061-98af-12ebfb703033",
   "metadata": {},
   "outputs": [],
   "source": [
    "model_path = \"/home/ubuntu/yolov10/weights/yolov10l.pt\"\n",
    "data_path = \"/home/ubuntu/dataset/data.yaml\"\n",
    "backur_dir = \"/home/ubuntu/yolov10L/training_backup\""
   ]
  },
  {
   "cell_type": "code",
   "execution_count": 4,
   "id": "a7988d5e-65c9-4bea-8a8a-9e8c73b84bb0",
   "metadata": {},
   "outputs": [],
   "source": [
    "#Define the paths and class information\n",
    "data = {\n",
    "    'train': '/home/ubuntu/dataset/dataset/images/val',\n",
    "    'val': '/home/ubuntu/dataset/dataset/images/val',\n",
    "    'test': '/home/ubuntu/dataset/dataset/images/test',\n",
    "    'nc': 1, #number of classes\n",
    "    'name': ['Stenosis'] #class name\n",
    "}\n",
    "\n",
    "#Write YAML file\n",
    "with open ('/home/ubuntu/dataset/data.yaml', 'w') as file:\n",
    "    yaml.dump(data, file)"
   ]
  },
  {
   "cell_type": "code",
   "execution_count": 7,
   "id": "1ce3107b-5e4d-424f-b103-7b6c6231b551",
   "metadata": {},
   "outputs": [
    {
     "name": "stdout",
     "output_type": "stream",
     "text": [
      "name:\n",
      "- Stenosis\n",
      "nc: 1\n",
      "test: /home/ubuntu/dataset/images/test\n",
      "train: /home/ubuntu/dataset/images/train\n",
      "val: /home/ubuntu/dataset/images/val\n",
      "\n"
     ]
    }
   ],
   "source": [
    "with open ('/home/ubuntu/dataset/data.yaml', 'r') as file:\n",
    "    print(file. read ())"
   ]
  },
  {
   "cell_type": "code",
   "execution_count": 5,
   "id": "76570cd5-81fc-4b11-b74c-ef9d619d19b7",
   "metadata": {},
   "outputs": [],
   "source": [
    "import urllib.request"
   ]
  },
  {
   "cell_type": "code",
   "execution_count": 6,
   "id": "e0fe9724-b7d6-4723-823f-b72803d28bdd",
   "metadata": {},
   "outputs": [],
   "source": [
    "import torch"
   ]
  },
  {
   "cell_type": "code",
   "execution_count": 10,
   "id": "64807d35-8f61-43e0-a968-bcb3bfcc83ca",
   "metadata": {},
   "outputs": [
    {
     "name": "stdout",
     "output_type": "stream",
     "text": [
      "Using device: cuda\n"
     ]
    }
   ],
   "source": [
    "#check GPU availability and set \n",
    "device= torch.device('cuda' if torch.cuda.is_available()else'cpu')\n",
    "print(f'Using device: {device}')"
   ]
  },
  {
   "cell_type": "code",
   "execution_count": 11,
   "id": "e27323b0-c391-4a38-b1fd-3e723c1852b8",
   "metadata": {},
   "outputs": [
    {
     "name": "stdout",
     "output_type": "stream",
     "text": [
      "chmod: invalid mode: ‘+×’\n",
      "Try 'chmod --help' for more information.\n"
     ]
    },
    {
     "data": {
      "text/plain": [
       "<Popen: returncode: None args: ['bash', '/home/ubuntu/backup_weights.sh', '/...>"
      ]
     },
     "execution_count": 11,
     "metadata": {},
     "output_type": "execute_result"
    }
   ],
   "source": [
    "#Backup checkpoints and model periodically\n",
    "import subprocess\n",
    "\n",
    "# Define the path to the backup script\n",
    "backup_script_path = '/home/ubuntu/backup_weights.sh' \n",
    "\n",
    "# Check if the path exists and if it is a directory\n",
    "if os.path.isdir(backup_script_path):\n",
    "    raise Exception (f\"A directory exists at {backup_script_path}. Please remove or rename it.\")\n",
    "    \n",
    "# Create a bash script to backup the weights periodically\n",
    "with open(backup_script_path, 'w') as f:\n",
    "    f.write(\"\"\"\n",
    "    while true\n",
    "    do\n",
    "        timestamp=$(date +'%Y-%m-%d_%H-%M-%S')\n",
    "        cp -r /home/ubuntu/yolov10/runs/detect/train $1/backup_$timestamp\n",
    "        echo \"Backup completed at $timestamp\" >> /home/ubuntu/backup_log.txt\n",
    "        sleep 300\n",
    "    done\n",
    "    \"\"\")\n",
    "    \n",
    "# Give execution permissions to the backup script\n",
    "!chmod +× /home/ubuntu/backup_weights.sh\n",
    "\n",
    "# Define the backup directory (in Google Drive)\n",
    "backup_dir = '/home/ubuntu/gdrive_mount/backup_yolov10'\n",
    "\n",
    "# Run the backup script in the background using subprocess\n",
    "subprocess.Popen(['bash', backup_script_path, backup_dir])"
   ]
  },
  {
   "cell_type": "code",
   "execution_count": 12,
   "id": "6225576c-8dca-43c0-bde2-37da20aff78f",
   "metadata": {},
   "outputs": [
    {
     "name": "stdout",
     "output_type": "stream",
     "text": [
      "Looking in indexes: https://pypi.org/simple, https://pypi.org/simple\n",
      "Requirement already satisfied: huggingface_hub in /home/ubuntu/envs/yolo_env/lib/python3.10/site-packages (0.26.2)\n",
      "Requirement already satisfied: filelock in /home/ubuntu/envs/yolo_env/lib/python3.10/site-packages (from huggingface_hub) (3.16.1)\n",
      "Requirement already satisfied: fsspec>=2023.5.0 in /home/ubuntu/envs/yolo_env/lib/python3.10/site-packages (from huggingface_hub) (2024.10.0)\n",
      "Requirement already satisfied: packaging>=20.9 in /home/ubuntu/envs/yolo_env/lib/python3.10/site-packages (from huggingface_hub) (24.2)\n",
      "Requirement already satisfied: pyyaml>=5.1 in /home/ubuntu/envs/yolo_env/lib/python3.10/site-packages (from huggingface_hub) (6.0.2)\n",
      "Requirement already satisfied: requests in /home/ubuntu/envs/yolo_env/lib/python3.10/site-packages (from huggingface_hub) (2.32.3)\n",
      "Requirement already satisfied: tqdm>=4.42.1 in /home/ubuntu/envs/yolo_env/lib/python3.10/site-packages (from huggingface_hub) (4.67.0)\n",
      "Requirement already satisfied: typing-extensions>=3.7.4.3 in /home/ubuntu/envs/yolo_env/lib/python3.10/site-packages (from huggingface_hub) (4.12.2)\n",
      "Requirement already satisfied: charset-normalizer<4,>=2 in /home/ubuntu/envs/yolo_env/lib/python3.10/site-packages (from requests->huggingface_hub) (3.4.0)\n",
      "Requirement already satisfied: idna<4,>=2.5 in /home/ubuntu/envs/yolo_env/lib/python3.10/site-packages (from requests->huggingface_hub) (3.10)\n",
      "Requirement already satisfied: urllib3<3,>=1.21.1 in /home/ubuntu/envs/yolo_env/lib/python3.10/site-packages (from requests->huggingface_hub) (2.2.3)\n",
      "Requirement already satisfied: certifi>=2017.4.17 in /home/ubuntu/envs/yolo_env/lib/python3.10/site-packages (from requests->huggingface_hub) (2024.8.30)\n"
     ]
    }
   ],
   "source": [
    "!pip install huggingface_hub -i https://pypi.org/simple"
   ]
  },
  {
   "cell_type": "code",
   "execution_count": 19,
   "id": "1d9891c5-4d0b-4fd0-9a81-a9424e3ba2b2",
   "metadata": {},
   "outputs": [],
   "source": [
    "from ultralytics import YOLO"
   ]
  },
  {
   "cell_type": "code",
   "execution_count": 28,
   "id": "3ea401e1-382b-46e0-8f6d-acfba9705285",
   "metadata": {},
   "outputs": [
    {
     "name": "stdout",
     "output_type": "stream",
     "text": [
      "Ultralytics 8.3.36 🚀 Python-3.10.12 torch-2.0.1+cu117 CUDA:0 (NVIDIA GeForce RTX 3090, 24253MiB)\n",
      "\u001b[34m\u001b[1mengine/trainer: \u001b[0mtask=detect, mode=train, model=/home/ubuntu/yolov10/weights/yolov10l.pt, data=/home/ubuntu/dataset/data.yaml, epochs=100, time=None, patience=100, batch=16, imgsz=640, save=True, save_period=-1, cache=False, device=None, workers=8, project=None, name=train18, exist_ok=False, pretrained=True, optimizer=SGD, verbose=True, seed=0, deterministic=True, single_cls=False, rect=False, cos_lr=False, close_mosaic=10, resume=False, amp=True, fraction=1.0, profile=False, freeze=None, multi_scale=False, overlap_mask=True, mask_ratio=4, dropout=0.0, val=True, split=val, save_json=False, save_hybrid=False, conf=None, iou=0.7, max_det=300, half=False, dnn=False, plots=True, source=None, vid_stride=1, stream_buffer=False, visualize=False, augment=False, agnostic_nms=False, classes=None, retina_masks=False, embed=None, show=False, save_frames=False, save_txt=False, save_conf=False, save_crop=False, show_labels=True, show_conf=True, show_boxes=True, line_width=None, format=torchscript, keras=False, optimize=False, int8=False, dynamic=False, simplify=True, opset=None, workspace=4, nms=False, lr0=0.00269, lrf=0.0002, momentum=0.85, weight_decay=0.00015, warmup_epochs=2, warmup_momentum=0.2, warmup_bias_lr=0.1, box=10, cls=1.5, dfl=0.56016, pose=12.0, kobj=1.0, label_smoothing=0.0, nbs=64, hsv_h=0.02, hsv_s=0.53554, hsv_v=0.15, degrees=5.0, translate=0.15, scale=0.1, shear=5.0, perspective=0.01, flipud=0.1, fliplr=0.08631, bgr=0.0, mosaic=0.5, mixup=0.1, copy_paste=0.1, copy_paste_mode=flip, auto_augment=randaugment, erasing=0.4, crop_fraction=1.0, cfg=None, tracker=botsort.yaml, save_dir=runs/detect/train18\n",
      "Overriding model.yaml nc=80 with nc=1\n",
      "\n",
      "                   from  n    params  module                                       arguments                     \n",
      "  0                  -1  1      1856  ultralytics.nn.modules.conv.Conv             [3, 64, 3, 2]                 \n",
      "  1                  -1  1     73984  ultralytics.nn.modules.conv.Conv             [64, 128, 3, 2]               \n",
      "  2                  -1  3    279808  ultralytics.nn.modules.block.C2f             [128, 128, 3, True]           \n",
      "  3                  -1  1    295424  ultralytics.nn.modules.conv.Conv             [128, 256, 3, 2]              \n",
      "  4                  -1  6   2101248  ultralytics.nn.modules.block.C2f             [256, 256, 6, True]           \n",
      "  5                  -1  1    137728  ultralytics.nn.modules.block.SCDown          [256, 512, 3, 2]              \n",
      "  6                  -1  6   8396800  ultralytics.nn.modules.block.C2f             [512, 512, 6, True]           \n",
      "  7                  -1  1    268800  ultralytics.nn.modules.block.SCDown          [512, 512, 3, 2]              \n",
      "  8                  -1  3   1744384  ultralytics.nn.modules.block.C2fCIB          [512, 512, 3, True]           \n",
      "  9                  -1  1    656896  ultralytics.nn.modules.block.SPPF            [512, 512, 5]                 \n",
      " 10                  -1  1    990976  ultralytics.nn.modules.block.PSA             [512, 512]                    \n",
      " 11                  -1  1         0  torch.nn.modules.upsampling.Upsample         [None, 2, 'nearest']          \n",
      " 12             [-1, 6]  1         0  ultralytics.nn.modules.conv.Concat           [1]                           \n",
      " 13                  -1  3   2006528  ultralytics.nn.modules.block.C2fCIB          [1024, 512, 3, True]          \n",
      " 14                  -1  1         0  torch.nn.modules.upsampling.Upsample         [None, 2, 'nearest']          \n",
      " 15             [-1, 4]  1         0  ultralytics.nn.modules.conv.Concat           [1]                           \n",
      " 16                  -1  3   1247744  ultralytics.nn.modules.block.C2f             [768, 256, 3]                 \n",
      " 17                  -1  1    590336  ultralytics.nn.modules.conv.Conv             [256, 256, 3, 2]              \n",
      " 18            [-1, 13]  1         0  ultralytics.nn.modules.conv.Concat           [1]                           \n",
      " 19                  -1  3   1875456  ultralytics.nn.modules.block.C2fCIB          [768, 512, 3, True]           \n",
      " 20                  -1  1    268800  ultralytics.nn.modules.block.SCDown          [512, 512, 3, 2]              \n",
      " 21            [-1, 10]  1         0  ultralytics.nn.modules.conv.Concat           [1]                           \n",
      " 22                  -1  3   2006528  ultralytics.nn.modules.block.C2fCIB          [1024, 512, 3, True]          \n",
      " 23        [16, 19, 22]  1   2823574  ultralytics.nn.modules.head.v10Detect        [1, [256, 512, 512]]          \n",
      "YOLOv10l summary: 628 layers, 25,766,870 parameters, 25,766,854 gradients, 127.2 GFLOPs\n",
      "\n",
      "Transferred 1015/1027 items from pretrained weights\n",
      "Freezing layer 'model.23.dfl.conv.weight'\n",
      "\u001b[34m\u001b[1mAMP: \u001b[0mrunning Automatic Mixed Precision (AMP) checks...\n",
      "\u001b[34m\u001b[1mAMP: \u001b[0mchecks passed ✅\n",
      "\u001b[34m\u001b[1mtrain: \u001b[0mScanning /home/ubuntu/dataset/dataset/labels/val... 959 images, 0 backgro\u001b[0m\n",
      "\u001b[34m\u001b[1mtrain: \u001b[0mNew cache created: /home/ubuntu/dataset/dataset/labels/val.cache\n",
      "\u001b[34m\u001b[1mval: \u001b[0mScanning /home/ubuntu/dataset/dataset/labels/val.cache... 959 images, 0 bac\u001b[0m\n",
      "Plotting labels to runs/detect/train18/labels.jpg... \n",
      "\u001b[34m\u001b[1moptimizer:\u001b[0m SGD(lr=0.00269, momentum=0.85) with parameter groups 167 weight(decay=0.0), 180 weight(decay=0.00015), 179 bias(decay=0.0)\n",
      "Image sizes 640 train, 640 val\n",
      "Using 8 dataloader workers\n",
      "Logging results to \u001b[1mruns/detect/train18\u001b[0m\n",
      "Starting training for 100 epochs...\n",
      "\n",
      "      Epoch    GPU_mem   box_loss   cls_loss   dfl_loss  Instances       Size\n",
      "      1/100        13G      8.147      63.63          2         23        640: 1\n",
      "                 Class     Images  Instances      Box(P          R      mAP50  m\n",
      "                   all        959        959   1.74e-05    0.00521   2.49e-05   3.37e-06\n",
      "\n",
      "      Epoch    GPU_mem   box_loss   cls_loss   dfl_loss  Instances       Size\n",
      "      2/100      13.1G       7.25         27      1.776         21        640: 1\n",
      "                 Class     Images  Instances      Box(P          R      mAP50  m\n",
      "                   all        959        959    0.00261      0.441    0.00756    0.00153\n",
      "\n",
      "      Epoch    GPU_mem   box_loss   cls_loss   dfl_loss  Instances       Size\n",
      "      3/100      13.2G      6.421      22.32      1.525         23        640: 1\n",
      "                 Class     Images  Instances      Box(P          R      mAP50  m\n",
      "                   all        959        959    0.00898      0.528     0.0152     0.0042\n",
      "\n",
      "      Epoch    GPU_mem   box_loss   cls_loss   dfl_loss  Instances       Size\n",
      "      4/100      13.2G      5.987      21.02      1.458         25        640: 1\n",
      "                 Class     Images  Instances      Box(P          R      mAP50  m\n",
      "                   all        959        959     0.0614      0.178     0.0346    0.00996\n",
      "\n",
      "      Epoch    GPU_mem   box_loss   cls_loss   dfl_loss  Instances       Size\n",
      "      5/100      13.2G      5.887      20.21      1.408         17        640: 1\n",
      "                 Class     Images  Instances      Box(P          R      mAP50  m\n",
      "                   all        959        959      0.071      0.366     0.0733     0.0213\n",
      "\n",
      "      Epoch    GPU_mem   box_loss   cls_loss   dfl_loss  Instances       Size\n",
      "      6/100      13.2G        5.4      18.79      1.351         15        640: 1\n",
      "                 Class     Images  Instances      Box(P          R      mAP50  m\n",
      "                   all        959        959      0.115      0.149     0.0984     0.0312\n",
      "\n",
      "      Epoch    GPU_mem   box_loss   cls_loss   dfl_loss  Instances       Size\n",
      "      7/100      13.2G      5.486      18.88      1.344         21        640: 1\n",
      "                 Class     Images  Instances      Box(P          R      mAP50  m\n",
      "                   all        959        959      0.336      0.237      0.233     0.0847\n",
      "\n",
      "      Epoch    GPU_mem   box_loss   cls_loss   dfl_loss  Instances       Size\n",
      "     12/100      13.2G       5.27      16.39      1.257         20        640: 1\n",
      "                 Class     Images  Instances      Box(P          R      mAP50  m\n",
      "                   all        959        959      0.596       0.39      0.489      0.144\n",
      "\n",
      "      Epoch    GPU_mem   box_loss   cls_loss   dfl_loss  Instances       Size\n",
      "     13/100      13.2G      5.078      15.93      1.245         20        640: 1\n",
      "                 Class     Images  Instances      Box(P          R      mAP50  m\n",
      "                   all        959        959      0.789      0.422      0.536      0.175\n",
      "\n",
      "      Epoch    GPU_mem   box_loss   cls_loss   dfl_loss  Instances       Size\n",
      "     14/100      13.2G      5.173      15.15       1.22         20        640: 1\n",
      "                 Class     Images  Instances      Box(P          R      mAP50  m\n",
      "                   all        959        959       0.31      0.334      0.233     0.0669\n",
      "\n",
      "      Epoch    GPU_mem   box_loss   cls_loss   dfl_loss  Instances       Size\n",
      "     15/100      13.2G      5.037      15.62      1.238         22        640: 1\n",
      "                 Class     Images  Instances      Box(P          R      mAP50  m\n",
      "                   all        959        959      0.736      0.537      0.628      0.199\n",
      "\n",
      "      Epoch    GPU_mem   box_loss   cls_loss   dfl_loss  Instances       Size\n",
      "     16/100      13.2G      5.149      14.95      1.238         24        640: 1\n",
      "                 Class     Images  Instances      Box(P          R      mAP50  m\n",
      "                   all        959        959       0.64      0.597      0.606      0.209\n",
      "\n",
      "      Epoch    GPU_mem   box_loss   cls_loss   dfl_loss  Instances       Size\n",
      "     17/100      13.2G       5.11      15.04      1.224         20        640: 1\n",
      "                 Class     Images  Instances      Box(P          R      mAP50  m\n",
      "                   all        959        959      0.689       0.62      0.634      0.165\n",
      "\n",
      "      Epoch    GPU_mem   box_loss   cls_loss   dfl_loss  Instances       Size\n",
      "     18/100      13.2G      4.925      14.51      1.175         24        640: 1\n",
      "                 Class     Images  Instances      Box(P          R      mAP50  m\n",
      "                   all        959        959      0.516      0.579      0.509      0.158\n",
      "\n",
      "      Epoch    GPU_mem   box_loss   cls_loss   dfl_loss  Instances       Size\n",
      "     19/100      13.2G      5.174      14.75      1.222         20        640: 1\n",
      "                 Class     Images  Instances      Box(P          R      mAP50  m\n",
      "                   all        959        959      0.432      0.473      0.349      0.105\n",
      "\n",
      "      Epoch    GPU_mem   box_loss   cls_loss   dfl_loss  Instances       Size\n",
      "     20/100      13.2G      5.098      14.82      1.209         19        640: 1\n",
      "                 Class     Images  Instances      Box(P          R      mAP50  m\n",
      "                   all        959        959      0.846      0.716      0.799      0.314\n",
      "\n",
      "      Epoch    GPU_mem   box_loss   cls_loss   dfl_loss  Instances       Size\n",
      "     21/100      13.2G      5.013      14.31      1.207         22        640: 1\n",
      "                 Class     Images  Instances      Box(P          R      mAP50  m\n",
      "                   all        959        959      0.759      0.661      0.748      0.288\n",
      "\n",
      "      Epoch    GPU_mem   box_loss   cls_loss   dfl_loss  Instances       Size\n",
      "     22/100      13.2G      4.997      14.25      1.212         21        640: 1\n",
      "                 Class     Images  Instances      Box(P          R      mAP50  m\n",
      "                   all        959        959      0.772      0.684      0.735      0.255\n",
      "\n",
      "      Epoch    GPU_mem   box_loss   cls_loss   dfl_loss  Instances       Size\n",
      "     23/100      13.2G      5.049      13.63      1.186         25        640: 1\n",
      "                 Class     Images  Instances      Box(P          R      mAP50  m\n",
      "                   all        959        959      0.715      0.619      0.692      0.245\n",
      "\n",
      "      Epoch    GPU_mem   box_loss   cls_loss   dfl_loss  Instances       Size\n",
      "     24/100      13.2G      4.647      13.57       1.15         20        640: 1\n",
      "                 Class     Images  Instances      Box(P          R      mAP50  m\n",
      "                   all        959        959      0.786      0.732      0.781      0.281\n",
      "\n",
      "      Epoch    GPU_mem   box_loss   cls_loss   dfl_loss  Instances       Size\n",
      "     25/100      13.2G      4.901      13.67      1.178         13        640: 1\n",
      "                 Class     Images  Instances      Box(P          R      mAP50  m\n",
      "                   all        959        959      0.794      0.717      0.766      0.275\n",
      "\n",
      "      Epoch    GPU_mem   box_loss   cls_loss   dfl_loss  Instances       Size\n",
      "     26/100      13.2G      4.924      13.86      1.179         23        640: 1\n",
      "                 Class     Images  Instances      Box(P          R      mAP50  m\n",
      "                   all        959        959      0.775      0.692       0.68      0.216\n",
      "\n",
      "      Epoch    GPU_mem   box_loss   cls_loss   dfl_loss  Instances       Size\n",
      "     27/100      13.2G      4.933      13.43      1.167         20        640: 1\n",
      "                 Class     Images  Instances      Box(P          R      mAP50  m\n",
      "                   all        959        959       0.81      0.748      0.784      0.277\n",
      "\n",
      "      Epoch    GPU_mem   box_loss   cls_loss   dfl_loss  Instances       Size\n",
      "     28/100      13.2G        4.8      13.09      1.157         18        640: 1\n",
      "                 Class     Images  Instances      Box(P          R      mAP50  m\n",
      "                   all        959        959      0.821      0.775      0.816      0.303\n",
      "\n",
      "      Epoch    GPU_mem   box_loss   cls_loss   dfl_loss  Instances       Size\n",
      "     29/100      13.2G      4.913      13.33      1.176         23        640: 1\n",
      "                 Class     Images  Instances      Box(P          R      mAP50  m\n",
      "                   all        959        959       0.83       0.76      0.821      0.302\n",
      "\n",
      "      Epoch    GPU_mem   box_loss   cls_loss   dfl_loss  Instances       Size\n",
      "     30/100      13.2G      4.758      13.16      1.149         22        640: 1\n",
      "                 Class     Images  Instances      Box(P          R      mAP50  m\n",
      "                   all        959        959      0.881      0.811      0.877       0.34\n",
      "\n",
      "      Epoch    GPU_mem   box_loss   cls_loss   dfl_loss  Instances       Size\n",
      "     31/100      13.2G      4.865      12.92      1.163         19        640: 1\n",
      "                 Class     Images  Instances      Box(P          R      mAP50  m\n",
      "                   all        959        959      0.808      0.778      0.821      0.307\n",
      "\n",
      "      Epoch    GPU_mem   box_loss   cls_loss   dfl_loss  Instances       Size\n",
      "     32/100      13.2G      4.733      12.75      1.168         28        640: 1\n",
      "                 Class     Images  Instances      Box(P          R      mAP50  m\n",
      "                   all        959        959      0.792      0.717      0.759      0.251\n",
      "\n",
      "      Epoch    GPU_mem   box_loss   cls_loss   dfl_loss  Instances       Size\n",
      "     33/100      13.2G      4.718      12.51      1.168         22        640: 1\n",
      "                 Class     Images  Instances      Box(P          R      mAP50  m\n",
      "                   all        959        959      0.822      0.754      0.798      0.299\n",
      "\n",
      "      Epoch    GPU_mem   box_loss   cls_loss   dfl_loss  Instances       Size\n",
      "     34/100      13.2G       4.86      12.63      1.146         17        640: 1\n",
      "                 Class     Images  Instances      Box(P          R      mAP50  m\n",
      "                   all        959        959      0.847      0.726      0.801      0.327\n",
      "\n",
      "      Epoch    GPU_mem   box_loss   cls_loss   dfl_loss  Instances       Size\n",
      "     35/100      13.2G      4.901       12.5      1.128         15        640: 1\n",
      "                 Class     Images  Instances      Box(P          R      mAP50  m\n",
      "                   all        959        959      0.875      0.765      0.848      0.355\n",
      "\n",
      "      Epoch    GPU_mem   box_loss   cls_loss   dfl_loss  Instances       Size\n",
      "     36/100      13.2G      4.768      12.32      1.146         18        640: 1\n",
      "                 Class     Images  Instances      Box(P          R      mAP50  m\n",
      "                   all        959        959      0.851      0.773      0.851      0.354\n",
      "\n",
      "      Epoch    GPU_mem   box_loss   cls_loss   dfl_loss  Instances       Size\n",
      "     37/100      13.2G      4.866      12.68      1.169         22        640: 1\n",
      "                 Class     Images  Instances      Box(P          R      mAP50  m\n",
      "                   all        959        959      0.868      0.736      0.861      0.336\n",
      "\n",
      "      Epoch    GPU_mem   box_loss   cls_loss   dfl_loss  Instances       Size\n",
      "     38/100      13.2G      4.635      12.27      1.134         27        640: 1\n",
      "                 Class     Images  Instances      Box(P          R      mAP50  m\n",
      "                   all        959        959      0.876      0.828      0.895      0.374\n",
      "\n",
      "      Epoch    GPU_mem   box_loss   cls_loss   dfl_loss  Instances       Size\n",
      "     39/100      13.2G       4.69      12.18      1.132         20        640: 1\n",
      "                 Class     Images  Instances      Box(P          R      mAP50  m\n",
      "                   all        959        959      0.831      0.783      0.857      0.312\n",
      "\n",
      "      Epoch    GPU_mem   box_loss   cls_loss   dfl_loss  Instances       Size\n",
      "     40/100      13.2G      4.605      11.96      1.121         29        640: 1\n",
      "                 Class     Images  Instances      Box(P          R      mAP50  m\n",
      "                   all        959        959       0.86      0.813      0.883      0.336\n",
      "\n",
      "      Epoch    GPU_mem   box_loss   cls_loss   dfl_loss  Instances       Size\n",
      "     41/100      13.2G       4.51       11.9      1.127         19        640: 1\n",
      "                 Class     Images  Instances      Box(P          R      mAP50  m\n",
      "                   all        959        959       0.89      0.835        0.9       0.36\n",
      "\n",
      "      Epoch    GPU_mem   box_loss   cls_loss   dfl_loss  Instances       Size\n",
      "     42/100      13.2G      4.614      11.65      1.141         22        640: 1\n",
      "                 Class     Images  Instances      Box(P          R      mAP50  m\n",
      "                   all        959        959      0.868      0.773      0.846      0.316\n",
      "\n",
      "      Epoch    GPU_mem   box_loss   cls_loss   dfl_loss  Instances       Size\n",
      "     43/100      13.2G      4.579      11.64      1.079         22        640: 1\n",
      "                 Class     Images  Instances      Box(P          R      mAP50  m\n",
      "                   all        959        959      0.874      0.769      0.852       0.33\n",
      "\n",
      "      Epoch    GPU_mem   box_loss   cls_loss   dfl_loss  Instances       Size\n",
      "     44/100      13.2G        4.7      11.43      1.109         18        640: 1\n",
      "                 Class     Images  Instances      Box(P          R      mAP50  m\n",
      "                   all        959        959      0.877       0.77      0.854       0.33\n",
      "\n",
      "      Epoch    GPU_mem   box_loss   cls_loss   dfl_loss  Instances       Size\n",
      "     45/100      13.2G      4.688      11.55      1.121         21        640: 1\n",
      "                 Class     Images  Instances      Box(P          R      mAP50  m\n",
      "                   all        959        959       0.89      0.804      0.877      0.333\n",
      "\n",
      "      Epoch    GPU_mem   box_loss   cls_loss   dfl_loss  Instances       Size\n",
      "     46/100      13.2G      4.519      11.36      1.124         29        640: 1\n",
      "                 Class     Images  Instances      Box(P          R      mAP50  m\n",
      "                   all        959        959      0.894       0.82      0.904      0.363\n",
      "\n",
      "      Epoch    GPU_mem   box_loss   cls_loss   dfl_loss  Instances       Size\n",
      "     47/100      13.2G       4.61      11.33      1.097         18        640: 1\n",
      "                 Class     Images  Instances      Box(P          R      mAP50  m\n",
      "                   all        959        959      0.894      0.842      0.905      0.372\n",
      "\n",
      "      Epoch    GPU_mem   box_loss   cls_loss   dfl_loss  Instances       Size\n",
      "     48/100      13.2G      4.612      11.25      1.128         20        640: 1\n",
      "                 Class     Images  Instances      Box(P          R      mAP50  m\n",
      "                   all        959        959      0.884      0.831       0.89      0.349\n",
      "\n",
      "      Epoch    GPU_mem   box_loss   cls_loss   dfl_loss  Instances       Size\n",
      "     49/100      13.2G      4.595      11.45      1.111         30        640: 1\n",
      "                 Class     Images  Instances      Box(P          R      mAP50  m\n",
      "                   all        959        959       0.88       0.83      0.876      0.343\n",
      "\n",
      "      Epoch    GPU_mem   box_loss   cls_loss   dfl_loss  Instances       Size\n",
      "     50/100      13.2G      4.471      10.62      1.086         20        640: 1\n",
      "                 Class     Images  Instances      Box(P          R      mAP50  m\n",
      "                   all        959        959       0.89      0.871      0.914      0.377\n",
      "\n",
      "      Epoch    GPU_mem   box_loss   cls_loss   dfl_loss  Instances       Size\n",
      "     51/100      13.2G      4.611      11.18      1.097         22        640: 1\n",
      "                 Class     Images  Instances      Box(P          R      mAP50  m\n",
      "                   all        959        959       0.89      0.846      0.899      0.353\n",
      "\n",
      "      Epoch    GPU_mem   box_loss   cls_loss   dfl_loss  Instances       Size\n",
      "     52/100      13.2G      4.624      11.14      1.103         24        640: 1\n",
      "                 Class     Images  Instances      Box(P          R      mAP50  m\n",
      "                   all        959        959      0.928      0.827      0.928      0.402\n",
      "\n",
      "      Epoch    GPU_mem   box_loss   cls_loss   dfl_loss  Instances       Size\n",
      "     53/100      13.2G      4.592      11.02      1.103         26        640: 1\n",
      "                 Class     Images  Instances      Box(P          R      mAP50  m\n",
      "                   all        959        959      0.867      0.854      0.913      0.378\n",
      "\n",
      "      Epoch    GPU_mem   box_loss   cls_loss   dfl_loss  Instances       Size\n",
      "     54/100      13.2G      4.494       10.7      1.103         19        640: 1\n",
      "                 Class     Images  Instances      Box(P          R      mAP50  m\n",
      "                   all        959        959      0.895      0.869      0.913       0.36\n",
      "\n",
      "      Epoch    GPU_mem   box_loss   cls_loss   dfl_loss  Instances       Size\n",
      "     55/100      13.2G      4.548      10.86      1.087         22        640: 1\n",
      "                 Class     Images  Instances      Box(P          R      mAP50  m\n",
      "                   all        959        959      0.876      0.846      0.909      0.369\n",
      "\n",
      "      Epoch    GPU_mem   box_loss   cls_loss   dfl_loss  Instances       Size\n",
      "     56/100      13.2G      4.583      10.71      1.081         22        640: 1\n",
      "                 Class     Images  Instances      Box(P          R      mAP50  m\n",
      "                   all        959        959      0.934      0.871      0.941      0.428\n",
      "\n",
      "      Epoch    GPU_mem   box_loss   cls_loss   dfl_loss  Instances       Size\n",
      "     57/100      13.2G      4.521      10.43      1.112         29        640: 1\n",
      "                 Class     Images  Instances      Box(P          R      mAP50  m\n",
      "                   all        959        959      0.918      0.878      0.921      0.384\n",
      "\n",
      "      Epoch    GPU_mem   box_loss   cls_loss   dfl_loss  Instances       Size\n",
      "     58/100      13.2G      4.622      10.79      1.109         24        640: 1\n",
      "                 Class     Images  Instances      Box(P          R      mAP50  m\n",
      "                   all        959        959      0.834      0.835       0.86      0.308\n",
      "\n",
      "      Epoch    GPU_mem   box_loss   cls_loss   dfl_loss  Instances       Size\n",
      "     59/100      13.2G      4.572       10.7      1.082         23        640: 1\n",
      "                 Class     Images  Instances      Box(P          R      mAP50  m\n",
      "                   all        959        959      0.894      0.867      0.909      0.361\n",
      "\n",
      "      Epoch    GPU_mem   box_loss   cls_loss   dfl_loss  Instances       Size\n",
      "     60/100      13.2G      4.465      10.45      1.076         17        640: 1\n",
      "                 Class     Images  Instances      Box(P          R      mAP50  m\n",
      "                   all        959        959      0.899      0.868      0.908      0.351\n",
      "\n",
      "      Epoch    GPU_mem   box_loss   cls_loss   dfl_loss  Instances       Size\n",
      "     61/100      13.2G      4.495       10.7      1.097         19        640: 1\n",
      "                 Class     Images  Instances      Box(P          R      mAP50  m\n",
      "                   all        959        959      0.896      0.869      0.909      0.367\n",
      "\n",
      "      Epoch    GPU_mem   box_loss   cls_loss   dfl_loss  Instances       Size\n",
      "     62/100      13.2G      4.487      10.63      1.085         22        640: 1\n",
      "                 Class     Images  Instances      Box(P          R      mAP50  m\n",
      "                   all        959        959      0.904       0.86      0.928      0.386\n",
      "\n",
      "      Epoch    GPU_mem   box_loss   cls_loss   dfl_loss  Instances       Size\n",
      "     63/100      13.2G      4.384      10.58      1.068         25        640: 1\n",
      "                 Class     Images  Instances      Box(P          R      mAP50  m\n",
      "                   all        959        959      0.913      0.865      0.925      0.393\n",
      "\n",
      "      Epoch    GPU_mem   box_loss   cls_loss   dfl_loss  Instances       Size\n",
      "     64/100      13.2G       4.46       10.6      1.078         19        640: 1\n",
      "                 Class     Images  Instances      Box(P          R      mAP50  m\n",
      "                   all        959        959      0.888      0.878       0.91      0.356\n",
      "\n",
      "      Epoch    GPU_mem   box_loss   cls_loss   dfl_loss  Instances       Size\n",
      "     65/100      13.2G      4.448      10.25      1.071         16        640: 1\n",
      "                 Class     Images  Instances      Box(P          R      mAP50  m\n",
      "                   all        959        959      0.933      0.842      0.929      0.431\n",
      "\n",
      "      Epoch    GPU_mem   box_loss   cls_loss   dfl_loss  Instances       Size\n",
      "     66/100      13.2G       4.46      10.58      1.071         25        640: 1\n",
      "                 Class     Images  Instances      Box(P          R      mAP50  m\n",
      "                   all        959        959      0.909       0.89      0.943      0.417\n",
      "\n",
      "      Epoch    GPU_mem   box_loss   cls_loss   dfl_loss  Instances       Size\n",
      "     67/100      13.2G      4.413      10.24      1.058         15        640: 1\n",
      "                 Class     Images  Instances      Box(P          R      mAP50  m\n",
      "                   all        959        959      0.906      0.885      0.931      0.406\n",
      "\n",
      "      Epoch    GPU_mem   box_loss   cls_loss   dfl_loss  Instances       Size\n",
      "     68/100      13.2G      4.382      10.06      1.057         17        640: 1\n",
      "                 Class     Images  Instances      Box(P          R      mAP50  m\n",
      "                   all        959        959      0.915      0.893      0.928      0.389\n",
      "\n",
      "      Epoch    GPU_mem   box_loss   cls_loss   dfl_loss  Instances       Size\n",
      "     69/100      13.2G      4.442       10.4      1.077         21        640: 1\n",
      "                 Class     Images  Instances      Box(P          R      mAP50  m\n",
      "                   all        959        959      0.937      0.888      0.946       0.42\n",
      "\n",
      "      Epoch    GPU_mem   box_loss   cls_loss   dfl_loss  Instances       Size\n",
      "     70/100      13.2G      4.368      9.993      1.063         22        640: 1\n",
      "                 Class     Images  Instances      Box(P          R      mAP50  m\n",
      "                   all        959        959       0.93      0.878      0.939      0.406\n",
      "\n",
      "      Epoch    GPU_mem   box_loss   cls_loss   dfl_loss  Instances       Size\n",
      "     71/100      13.2G      4.534      9.921      1.077         23        640: 1\n",
      "                 Class     Images  Instances      Box(P          R      mAP50  m\n",
      "                   all        959        959      0.909      0.918       0.95      0.422\n",
      "\n",
      "      Epoch    GPU_mem   box_loss   cls_loss   dfl_loss  Instances       Size\n",
      "     72/100      13.2G      4.547      10.44      1.075         27        640: 1\n",
      "                 Class     Images  Instances      Box(P          R      mAP50  m\n",
      "                   all        959        959      0.932      0.888      0.942      0.425\n",
      "\n",
      "      Epoch    GPU_mem   box_loss   cls_loss   dfl_loss  Instances       Size\n",
      "     73/100      13.2G      4.406      10.32       1.06         20        640: 1\n",
      "                 Class     Images  Instances      Box(P          R      mAP50  m\n",
      "                   all        959        959      0.942      0.892      0.953      0.438\n",
      "\n",
      "      Epoch    GPU_mem   box_loss   cls_loss   dfl_loss  Instances       Size\n",
      "     74/100      13.2G      4.456      9.919      1.066         24        640: 1\n",
      "                 Class     Images  Instances      Box(P          R      mAP50  m\n",
      "                   all        959        959      0.916      0.908      0.945      0.424\n",
      "\n",
      "      Epoch    GPU_mem   box_loss   cls_loss   dfl_loss  Instances       Size\n",
      "     75/100      13.2G       4.34      9.838      1.052         22        640: 1\n",
      "                 Class     Images  Instances      Box(P          R      mAP50  m\n",
      "                   all        959        959      0.927      0.926      0.957      0.423\n",
      "\n",
      "      Epoch    GPU_mem   box_loss   cls_loss   dfl_loss  Instances       Size\n",
      "     76/100      13.2G      4.352      10.36      1.065         21        640: 1\n",
      "                 Class     Images  Instances      Box(P          R      mAP50  m\n",
      "                   all        959        959      0.904      0.904       0.94      0.382\n",
      "\n",
      "      Epoch    GPU_mem   box_loss   cls_loss   dfl_loss  Instances       Size\n",
      "     77/100      13.2G      4.355      9.935       1.06         22        640: 1\n",
      "                 Class     Images  Instances      Box(P          R      mAP50  m\n",
      "                   all        959        959       0.92      0.914      0.947      0.434\n",
      "\n",
      "      Epoch    GPU_mem   box_loss   cls_loss   dfl_loss  Instances       Size\n",
      "     78/100      13.2G      4.294      9.832      1.051         23        640: 1\n",
      "                 Class     Images  Instances      Box(P          R      mAP50  m\n",
      "                   all        959        959      0.905      0.933      0.955      0.387\n",
      "\n",
      "      Epoch    GPU_mem   box_loss   cls_loss   dfl_loss  Instances       Size\n",
      "     79/100      13.2G       4.36      9.827      1.064         18        640: 1\n",
      "                 Class     Images  Instances      Box(P          R      mAP50  m\n",
      "                   all        959        959      0.928      0.912      0.964      0.428\n",
      "\n",
      "      Epoch    GPU_mem   box_loss   cls_loss   dfl_loss  Instances       Size\n",
      "     80/100      13.2G      4.226      9.875      1.063         23        640: 1\n",
      "                 Class     Images  Instances      Box(P          R      mAP50  m\n",
      "                   all        959        959      0.908      0.916      0.952      0.422\n",
      "\n",
      "      Epoch    GPU_mem   box_loss   cls_loss   dfl_loss  Instances       Size\n",
      "     81/100      13.2G      4.259      9.751      1.064         24        640: 1\n",
      "                 Class     Images  Instances      Box(P          R      mAP50  m\n",
      "                   all        959        959      0.918      0.917      0.949      0.431\n",
      "\n",
      "      Epoch    GPU_mem   box_loss   cls_loss   dfl_loss  Instances       Size\n",
      "     82/100      13.2G      4.388      9.397      1.052         22        640: 1\n",
      "                 Class     Images  Instances      Box(P          R      mAP50  m\n",
      "                   all        959        959      0.927      0.919      0.946      0.407\n",
      "\n",
      "      Epoch    GPU_mem   box_loss   cls_loss   dfl_loss  Instances       Size\n",
      "     83/100      13.2G      4.367      9.773      1.067         20        640: 1\n",
      "                 Class     Images  Instances      Box(P          R      mAP50  m\n",
      "                   all        959        959      0.922      0.918      0.941      0.383\n",
      "\n",
      "      Epoch    GPU_mem   box_loss   cls_loss   dfl_loss  Instances       Size\n",
      "     84/100      13.2G      4.386      10.05      1.065         14        640: 1\n",
      "                 Class     Images  Instances      Box(P          R      mAP50  m\n",
      "                   all        959        959      0.929      0.917      0.952      0.415\n",
      "\n",
      "      Epoch    GPU_mem   box_loss   cls_loss   dfl_loss  Instances       Size\n",
      "     85/100      13.2G       4.35      9.728       1.07         22        640: 1\n",
      "                 Class     Images  Instances      Box(P          R      mAP50  m\n",
      "                   all        959        959      0.935      0.922      0.951      0.433\n",
      "\n",
      "      Epoch    GPU_mem   box_loss   cls_loss   dfl_loss  Instances       Size\n",
      "     86/100      13.2G       4.26      9.292      1.023         22        640: 1\n",
      "                 Class     Images  Instances      Box(P          R      mAP50  m\n",
      "                   all        959        959      0.941      0.946      0.962      0.444\n",
      "\n",
      "      Epoch    GPU_mem   box_loss   cls_loss   dfl_loss  Instances       Size\n",
      "     87/100      13.2G      4.389      9.545      1.075         20        640: 1\n",
      "                 Class     Images  Instances      Box(P          R      mAP50  m\n",
      "                   all        959        959      0.935      0.931      0.953      0.418\n",
      "\n",
      "      Epoch    GPU_mem   box_loss   cls_loss   dfl_loss  Instances       Size\n",
      "     88/100      13.2G      4.326      9.633      1.048         20        640: 1\n",
      "                 Class     Images  Instances      Box(P          R      mAP50  m\n",
      "                   all        959        959      0.944      0.935      0.965      0.437\n",
      "\n",
      "      Epoch    GPU_mem   box_loss   cls_loss   dfl_loss  Instances       Size\n",
      "     89/100      13.2G      4.419      9.546      1.063         25        640: 1\n",
      "                 Class     Images  Instances      Box(P          R      mAP50  m\n",
      "                   all        959        959       0.95      0.935      0.966       0.45\n",
      "\n",
      "      Epoch    GPU_mem   box_loss   cls_loss   dfl_loss  Instances       Size\n",
      "     90/100      13.2G      4.292      9.654      1.054         25        640: 1\n",
      "                 Class     Images  Instances      Box(P          R      mAP50  m\n",
      "                   all        959        959      0.946      0.943      0.969       0.46\n",
      "Closing dataloader mosaic\n",
      "\n",
      "      Epoch    GPU_mem   box_loss   cls_loss   dfl_loss  Instances       Size\n",
      "     91/100      13.2G      3.962        6.9      1.045         13        640: 1\n",
      "                 Class     Images  Instances      Box(P          R      mAP50  m\n",
      "                   all        959        959      0.945      0.926      0.965      0.458\n",
      "\n",
      "      Epoch    GPU_mem   box_loss   cls_loss   dfl_loss  Instances       Size\n",
      "     92/100      13.2G      3.725      6.372      1.023         14        640: 1\n",
      "                 Class     Images  Instances      Box(P          R      mAP50  m\n",
      "                   all        959        959       0.95      0.925      0.965      0.442\n",
      "\n",
      "      Epoch    GPU_mem   box_loss   cls_loss   dfl_loss  Instances       Size\n",
      "     93/100      13.2G      3.822      6.374      1.052         13        640: 1\n",
      "                 Class     Images  Instances      Box(P          R      mAP50  m\n",
      "                   all        959        959      0.948       0.93      0.964      0.454\n",
      "\n",
      "      Epoch    GPU_mem   box_loss   cls_loss   dfl_loss  Instances       Size\n",
      "     94/100      13.2G       3.81       6.44      1.024         13        640: 1\n",
      "                 Class     Images  Instances      Box(P          R      mAP50  m\n",
      "                   all        959        959      0.952      0.937      0.968      0.457\n",
      "\n",
      "      Epoch    GPU_mem   box_loss   cls_loss   dfl_loss  Instances       Size\n",
      "     95/100      13.2G      3.815      6.238      1.023         11        640: 1\n",
      "                 Class     Images  Instances      Box(P          R      mAP50  m\n",
      "                   all        959        959      0.946      0.936      0.967      0.459\n",
      "\n",
      "      Epoch    GPU_mem   box_loss   cls_loss   dfl_loss  Instances       Size\n",
      "     96/100      13.2G      3.775      6.334      1.045         12        640: 1\n",
      "                 Class     Images  Instances      Box(P          R      mAP50  m\n",
      "                   all        959        959      0.957      0.927      0.968      0.458\n",
      "\n",
      "      Epoch    GPU_mem   box_loss   cls_loss   dfl_loss  Instances       Size\n",
      "     97/100      13.2G      3.826       6.32       1.04         14        640: 1\n",
      "                 Class     Images  Instances      Box(P          R      mAP50  m\n",
      "                   all        959        959      0.954      0.924      0.968      0.465\n",
      "\n",
      "      Epoch    GPU_mem   box_loss   cls_loss   dfl_loss  Instances       Size\n",
      "     98/100      13.2G      3.733      6.047      1.041         13        640: 1\n",
      "                 Class     Images  Instances      Box(P          R      mAP50  m\n",
      "                   all        959        959      0.945      0.946       0.97      0.463\n",
      "\n",
      "      Epoch    GPU_mem   box_loss   cls_loss   dfl_loss  Instances       Size\n",
      "     99/100      13.2G      3.718      6.224      1.013         14        640: 1\n",
      "                 Class     Images  Instances      Box(P          R      mAP50  m\n",
      "                   all        959        959      0.944      0.944      0.973      0.461\n",
      "\n",
      "      Epoch    GPU_mem   box_loss   cls_loss   dfl_loss  Instances       Size\n",
      "    100/100      13.2G      3.825       6.24      1.025         15        640: 1\n",
      "                 Class     Images  Instances      Box(P          R      mAP50  m\n",
      "                   all        959        959      0.948      0.941      0.969      0.456\n",
      "\n",
      "100 epochs completed in 0.765 hours.\n",
      "Optimizer stripped from runs/detect/train18/weights/last.pt, 52.2MB\n",
      "Optimizer stripped from runs/detect/train18/weights/best.pt, 52.2MB\n",
      "\n",
      "Validating runs/detect/train18/weights/best.pt...\n",
      "Ultralytics 8.3.36 🚀 Python-3.10.12 torch-2.0.1+cu117 CUDA:0 (NVIDIA GeForce RTX 3090, 24253MiB)\n",
      "YOLOv10l summary (fused): 461 layers, 25,717,910 parameters, 0 gradients, 126.3 GFLOPs\n",
      "                 Class     Images  Instances      Box(P          R      mAP50  m\n",
      "                   all        959        959      0.953      0.924      0.968      0.465\n",
      "Speed: 0.3ms preprocess, 5.0ms inference, 0.0ms loss, 0.1ms postprocess per image\n",
      "Results saved to \u001b[1mruns/detect/train18\u001b[0m\n",
      "💡 Learn more at https://docs.ultralytics.com/modes/train\n"
     ]
    }
   ],
   "source": [
    "!yolo task=detect mode=train epochs=100 batch=16 plots=True model=$model_path data=$data_path \\\n",
    "optimizer=SGD lr0=0.00269 lrf=0.0002 momentum=0.85 \\\n",
    "weight_decay=0.00015 warmup_epochs=2 warmup_momentum=0.2 box=10 \\\n",
    "cls=1.5 dfl=0.56016 hsv_h=0.02 hsv_s=0.53554 hsv_v=0.15 degrees=5.0 translate=0.15 scale=0.1 \\\n",
    "shear=5.0 perspective=0.01 flipud=0.1 fliplr=0.08631 mosaic=0.5 mixup=0.1 copy_paste=0.1"
   ]
  },
  {
   "cell_type": "code",
   "execution_count": null,
   "id": "046974ed-2fa7-474d-9e60-6fb636187fc9",
   "metadata": {},
   "outputs": [],
   "source": [
    "# Evaluation"
   ]
  },
  {
   "cell_type": "code",
   "execution_count": 12,
   "id": "ab4dfc42-45da-4f92-9a6c-11324146b55c",
   "metadata": {},
   "outputs": [
    {
     "name": "stdout",
     "output_type": "stream",
     "text": [
      "Ultralytics 8.3.36 🚀 Python-3.10.12 torch-2.0.1+cu117 CPU (AMD EPYC 7763 64-Core Processor)\n",
      "YOLOv10l summary (fused): 461 layers, 25,717,910 parameters, 0 gradients, 126.3 GFLOPs\n",
      "\u001b[34m\u001b[1mval: \u001b[0mScanning /home/ubuntu/dataset/dataset/labels/val.cache... 959 images, 0 bac\u001b[0m\n",
      "/home/ubuntu/envs/yolo_env/lib/python3.10/site-packages/torch/cuda/__init__.py:546: UserWarning: Can't initialize NVML\n",
      "  warnings.warn(\"Can't initialize NVML\")\n",
      "                 Class     Images  Instances      Box(P          R      mAP50  m\n",
      "                   all        959        959      0.335      0.236      0.233     0.0847\n",
      "Speed: 2.6ms preprocess, 769.2ms inference, 0.0ms loss, 0.1ms postprocess per image\n",
      "Results saved to \u001b[1mruns/detect/val\u001b[0m\n",
      "💡 Learn more at https://docs.ultralytics.com/modes/val\n"
     ]
    }
   ],
   "source": [
    "!yolo task=detect mode=val model=/home/ubuntu/yolov10/runs/detect/train19/weights/best.pt data=$data_path"
   ]
  },
  {
   "cell_type": "code",
   "execution_count": 23,
   "id": "552cde7f-79c5-48ab-a42e-8e865141e6f7",
   "metadata": {},
   "outputs": [
    {
     "name": "stdout",
     "output_type": "stream",
     "text": [
      "Ultralytics 8.3.36 🚀 Python-3.10.12 torch-2.0.1+cu117 CUDA:0 (NVIDIA GeForce RTX 3090, 24253MiB)\n",
      "YOLOv10l summary (fused): 461 layers, 25,717,910 parameters, 0 gradients, 126.3 GFLOPs\n",
      "\u001b[34m\u001b[1mval: \u001b[0mScanning /home/ubuntu/dataset/dataset/labels/val.cache... 959 images, 0 bac\u001b[0m\n",
      "                 Class     Images  Instances      Box(P          R      mAP50  m\n",
      "                   all        959        959      0.245      0.304      0.256      0.104\n",
      "Speed: 0.6ms preprocess, 8.8ms inference, 0.0ms loss, 0.2ms postprocess per image\n",
      "Results saved to \u001b[1mruns/detect/val_conf/val_conf_05\u001b[0m\n",
      "💡 Learn more at https://docs.ultralytics.com/modes/val\n"
     ]
    }
   ],
   "source": [
    "!yolo task=detect mode=val model=/home/ubuntu/yolov10/runs/detect/train19/weights/best.pt data=$data_path conf=0.05 save_txt=True project=runs/detect/val_conf name=val_conf_05\n"
   ]
  },
  {
   "cell_type": "code",
   "execution_count": 24,
   "id": "501c3101-776a-465a-9033-8895d6710352",
   "metadata": {},
   "outputs": [
    {
     "name": "stdout",
     "output_type": "stream",
     "text": [
      "Ultralytics 8.3.36 🚀 Python-3.10.12 torch-2.0.1+cu117 CUDA:0 (NVIDIA GeForce RTX 3090, 24253MiB)\n",
      "YOLOv10l summary (fused): 461 layers, 25,717,910 parameters, 0 gradients, 126.3 GFLOPs\n",
      "\u001b[34m\u001b[1mval: \u001b[0mScanning /home/ubuntu/dataset/dataset/labels/val.cache... 959 images, 0 bac\u001b[0m\n",
      "                 Class     Images  Instances      Box(P          R      mAP50  m\n",
      "                   all        959        959      0.532      0.165      0.343       0.15\n",
      "Speed: 0.6ms preprocess, 9.0ms inference, 0.0ms loss, 0.2ms postprocess per image\n",
      "Results saved to \u001b[1mruns/detect/val_conf/val_conf_10\u001b[0m\n",
      "💡 Learn more at https://docs.ultralytics.com/modes/val\n"
     ]
    }
   ],
   "source": [
    "!yolo task=detect mode=val model=/home/ubuntu/yolov10/runs/detect/train19/weights/best.pt data=$data_path conf=0.1 save_txt=True project=runs/detect/val_conf name=val_conf_10\n"
   ]
  },
  {
   "cell_type": "code",
   "execution_count": 25,
   "id": "05b34906-9ca2-40d1-a1d0-484af2b49258",
   "metadata": {},
   "outputs": [
    {
     "name": "stdout",
     "output_type": "stream",
     "text": [
      "Ultralytics 8.3.36 🚀 Python-3.10.12 torch-2.0.1+cu117 CUDA:0 (NVIDIA GeForce RTX 3090, 24253MiB)\n",
      "YOLOv10l summary (fused): 461 layers, 25,717,910 parameters, 0 gradients, 126.3 GFLOPs\n",
      "\u001b[34m\u001b[1mval: \u001b[0mScanning /home/ubuntu/dataset/dataset/labels/val.cache... 959 images, 0 bac\u001b[0m\n",
      "                 Class     Images  Instances      Box(P          R      mAP50  m\n",
      "                   all        959        959      0.685     0.0928      0.387      0.173\n",
      "Speed: 0.5ms preprocess, 8.8ms inference, 0.0ms loss, 0.3ms postprocess per image\n",
      "Results saved to \u001b[1mruns/detect/val_conf/val_conf_15\u001b[0m\n",
      "💡 Learn more at https://docs.ultralytics.com/modes/val\n"
     ]
    }
   ],
   "source": [
    "!yolo task=detect mode=val model=/home/ubuntu/yolov10/runs/detect/train19/weights/best.pt data=$data_path conf=0.15 save_txt=True project=runs/detect/val_conf name=val_conf_15\n"
   ]
  },
  {
   "cell_type": "code",
   "execution_count": 26,
   "id": "f4d3d6ea-f803-438f-aada-b427206c6ab7",
   "metadata": {},
   "outputs": [
    {
     "name": "stdout",
     "output_type": "stream",
     "text": [
      "Ultralytics 8.3.36 🚀 Python-3.10.12 torch-2.0.1+cu117 CUDA:0 (NVIDIA GeForce RTX 3090, 24253MiB)\n",
      "YOLOv10l summary (fused): 461 layers, 25,717,910 parameters, 0 gradients, 126.3 GFLOPs\n",
      "\u001b[34m\u001b[1mval: \u001b[0mScanning /home/ubuntu/dataset/dataset/labels/val.cache... 959 images, 0 bac\u001b[0m\n",
      "                 Class     Images  Instances      Box(P          R      mAP50  m\n",
      "                   all        959        959      0.753     0.0574      0.406      0.191\n",
      "Speed: 0.5ms preprocess, 8.9ms inference, 0.0ms loss, 0.2ms postprocess per image\n",
      "Results saved to \u001b[1mruns/detect/val_conf/val_conf_2\u001b[0m\n",
      "💡 Learn more at https://docs.ultralytics.com/modes/val\n"
     ]
    }
   ],
   "source": [
    "!yolo task=detect mode=val model=/home/ubuntu/yolov10/runs/detect/train19/weights/best.pt data=$data_path conf=0.2 save_txt=True project=runs/detect/val_conf name=val_conf_2\n"
   ]
  },
  {
   "cell_type": "code",
   "execution_count": 27,
   "id": "179c0945-d061-4059-9703-0f7464551743",
   "metadata": {},
   "outputs": [
    {
     "name": "stdout",
     "output_type": "stream",
     "text": [
      "Ultralytics 8.3.36 🚀 Python-3.10.12 torch-2.0.1+cu117 CUDA:0 (NVIDIA GeForce RTX 3090, 24253MiB)\n",
      "YOLOv10l summary (fused): 461 layers, 25,717,910 parameters, 0 gradients, 126.3 GFLOPs\n",
      "\u001b[34m\u001b[1mval: \u001b[0mScanning /home/ubuntu/dataset/dataset/labels/val.cache... 959 images, 0 bac\u001b[0m\n",
      "                 Class     Images  Instances      Box(P          R      mAP50  m\n",
      "                   all        959        959      0.875     0.0365      0.456      0.219\n",
      "Speed: 0.5ms preprocess, 8.7ms inference, 0.0ms loss, 0.1ms postprocess per image\n",
      "Results saved to \u001b[1mruns/detect/val_conf/val_conf_25\u001b[0m\n",
      "💡 Learn more at https://docs.ultralytics.com/modes/val\n"
     ]
    }
   ],
   "source": [
    "!yolo task=detect mode=val model=/home/ubuntu/yolov10/runs/detect/train19/weights/best.pt data=$data_path conf=0.25 save_txt=True project=runs/detect/val_conf name=val_conf_25\n"
   ]
  },
  {
   "cell_type": "code",
   "execution_count": 28,
   "id": "cd0a16a9-09de-4c71-9847-628322429153",
   "metadata": {},
   "outputs": [
    {
     "name": "stdout",
     "output_type": "stream",
     "text": [
      "Ultralytics 8.3.36 🚀 Python-3.10.12 torch-2.0.1+cu117 CUDA:0 (NVIDIA GeForce RTX 3090, 24253MiB)\n",
      "YOLOv10l summary (fused): 461 layers, 25,717,910 parameters, 0 gradients, 126.3 GFLOPs\n",
      "\u001b[34m\u001b[1mval: \u001b[0mScanning /home/ubuntu/dataset/dataset/labels/val.cache... 959 images, 0 bac\u001b[0m\n",
      "                 Class     Images  Instances      Box(P          R      mAP50  m\n",
      "                   all        959        959      0.889      0.025      0.457      0.226\n",
      "Speed: 0.6ms preprocess, 8.8ms inference, 0.0ms loss, 0.2ms postprocess per image\n",
      "Results saved to \u001b[1mruns/detect/val_conf/val_conf_30\u001b[0m\n",
      "💡 Learn more at https://docs.ultralytics.com/modes/val\n"
     ]
    }
   ],
   "source": [
    "!yolo task=detect mode=val model=/home/ubuntu/yolov10/runs/detect/train19/weights/best.pt data=$data_path conf=0.3 save_txt=True project=runs/detect/val_conf name=val_conf_30\n"
   ]
  },
  {
   "cell_type": "code",
   "execution_count": 29,
   "id": "6a6ad26a-c8f2-4623-a840-6cc649bcdae0",
   "metadata": {},
   "outputs": [
    {
     "name": "stdout",
     "output_type": "stream",
     "text": [
      "Ultralytics 8.3.36 🚀 Python-3.10.12 torch-2.0.1+cu117 CUDA:0 (NVIDIA GeForce RTX 3090, 24253MiB)\n",
      "YOLOv10l summary (fused): 461 layers, 25,717,910 parameters, 0 gradients, 126.3 GFLOPs\n",
      "\u001b[34m\u001b[1mval: \u001b[0mScanning /home/ubuntu/dataset/dataset/labels/val.cache... 959 images, 0 bac\u001b[0m\n",
      "                 Class     Images  Instances      Box(P          R      mAP50  m\n",
      "                   all        959        959      0.944     0.0177      0.481       0.24\n",
      "Speed: 0.7ms preprocess, 8.6ms inference, 0.0ms loss, 0.2ms postprocess per image\n",
      "Results saved to \u001b[1mruns/detect/val_conf/val_conf_35\u001b[0m\n",
      "💡 Learn more at https://docs.ultralytics.com/modes/val\n"
     ]
    }
   ],
   "source": [
    "!yolo task=detect mode=val model=/home/ubuntu/yolov10/runs/detect/train19/weights/best.pt data=$data_path conf=0.35 save_txt=True project=runs/detect/val_conf name=val_conf_35\n"
   ]
  },
  {
   "cell_type": "code",
   "execution_count": 30,
   "id": "adca424d-3618-4fae-a843-3bde0208e81a",
   "metadata": {},
   "outputs": [
    {
     "name": "stdout",
     "output_type": "stream",
     "text": [
      "Ultralytics 8.3.36 🚀 Python-3.10.12 torch-2.0.1+cu117 CUDA:0 (NVIDIA GeForce RTX 3090, 24253MiB)\n",
      "YOLOv10l summary (fused): 461 layers, 25,717,910 parameters, 0 gradients, 126.3 GFLOPs\n",
      "\u001b[34m\u001b[1mval: \u001b[0mScanning /home/ubuntu/dataset/dataset/labels/val.cache... 959 images, 0 bac\u001b[0m\n",
      "                 Class     Images  Instances      Box(P          R      mAP50  m\n",
      "                   all        959        959          1     0.0115      0.506      0.234\n",
      "Speed: 0.8ms preprocess, 8.8ms inference, 0.0ms loss, 0.2ms postprocess per image\n",
      "Results saved to \u001b[1mruns/detect/val_conf/val_conf_40\u001b[0m\n",
      "💡 Learn more at https://docs.ultralytics.com/modes/val\n"
     ]
    }
   ],
   "source": [
    "!yolo task=detect mode=val model=/home/ubuntu/yolov10/runs/detect/train19/weights/best.pt data=$data_path conf=0.4 save_txt=True project=runs/detect/val_conf name=val_conf_40\n"
   ]
  },
  {
   "cell_type": "code",
   "execution_count": 31,
   "id": "aa1891cf-9f7e-4109-baca-c87891b467ad",
   "metadata": {},
   "outputs": [
    {
     "name": "stdout",
     "output_type": "stream",
     "text": [
      "Ultralytics 8.3.36 🚀 Python-3.10.12 torch-2.0.1+cu117 CUDA:0 (NVIDIA GeForce RTX 3090, 24253MiB)\n",
      "YOLOv10l summary (fused): 461 layers, 25,717,910 parameters, 0 gradients, 126.3 GFLOPs\n",
      "\u001b[34m\u001b[1mval: \u001b[0mScanning /home/ubuntu/dataset/dataset/labels/val.cache... 959 images, 0 bac\u001b[0m\n",
      "                 Class     Images  Instances      Box(P          R      mAP50  m\n",
      "                   all        959        959          1    0.00417      0.502      0.214\n",
      "Speed: 0.9ms preprocess, 9.0ms inference, 0.0ms loss, 0.1ms postprocess per image\n",
      "Results saved to \u001b[1mruns/detect/val_conf/val_conf_45\u001b[0m\n",
      "💡 Learn more at https://docs.ultralytics.com/modes/val\n"
     ]
    }
   ],
   "source": [
    "!yolo task=detect mode=val model=/home/ubuntu/yolov10/runs/detect/train19/weights/best.pt data=$data_path conf=0.45 save_txt=True project=runs/detect/val_conf name=val_conf_45\n"
   ]
  },
  {
   "cell_type": "code",
   "execution_count": 32,
   "id": "4deacc63-a905-468c-a710-eb798432e8e0",
   "metadata": {},
   "outputs": [
    {
     "name": "stdout",
     "output_type": "stream",
     "text": [
      "Ultralytics 8.3.36 🚀 Python-3.10.12 torch-2.0.1+cu117 CUDA:0 (NVIDIA GeForce RTX 3090, 24253MiB)\n",
      "YOLOv10l summary (fused): 461 layers, 25,717,910 parameters, 0 gradients, 126.3 GFLOPs\n",
      "\u001b[34m\u001b[1mval: \u001b[0mScanning /home/ubuntu/dataset/dataset/labels/val.cache... 959 images, 0 bac\u001b[0m\n",
      "                 Class     Images  Instances      Box(P          R      mAP50  m\n",
      "                   all        959        959          1    0.00313      0.502      0.267\n",
      "Speed: 0.9ms preprocess, 9.0ms inference, 0.0ms loss, 0.2ms postprocess per image\n",
      "Results saved to \u001b[1mruns/detect/val_conf/val_conf_50\u001b[0m\n",
      "💡 Learn more at https://docs.ultralytics.com/modes/val\n"
     ]
    }
   ],
   "source": [
    "!yolo task=detect mode=val model=/home/ubuntu/yolov10/runs/detect/train19/weights/best.pt data=$data_path conf=0.5 save_txt=True project=runs/detect/val_conf name=val_conf_50\n"
   ]
  },
  {
   "cell_type": "code",
   "execution_count": null,
   "id": "6d4d5211-8e5d-4491-94ea-bcde7151b160",
   "metadata": {},
   "outputs": [],
   "source": []
  }
 ],
 "metadata": {
  "kernelspec": {
   "display_name": "Python 3 (ipykernel)",
   "language": "python",
   "name": "python3"
  },
  "language_info": {
   "codemirror_mode": {
    "name": "ipython",
    "version": 3
   },
   "file_extension": ".py",
   "mimetype": "text/x-python",
   "name": "python",
   "nbconvert_exporter": "python",
   "pygments_lexer": "ipython3",
   "version": "3.10.12"
  }
 },
 "nbformat": 4,
 "nbformat_minor": 5
}
